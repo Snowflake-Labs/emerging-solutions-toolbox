{
 "cells": [
  {
   "cell_type": "markdown",
   "id": "079fe083-c828-4c86-ad31-08d50310486c",
   "metadata": {
    "collapsed": false,
    "name": "Overview"
   },
   "source": [
    "# Enable Query Acceleration Service for Warehouses with Eligible Queries\n",
    "\n",
    "The query acceleration service (QAS) can accelerate parts of the query workload in a warehouse. When it is enabled for a warehouse, it can improve overall warehouse performance by reducing the impact of outlier queries, which are queries that use more resources than the typical query. The query acceleration service does this by offloading portions of the query processing work to shared compute resources that are provided by the service.\n",
    "\n",
    "For more information, visit:  https://docs.snowflake.com/en/user-guide/query-acceleration-service#label-query-acceleration-eligible-queries.\n",
    "\n",
    "This notebook identifies warehouses that execute queries that are eligible for QAS, along with the option to enable QAS for each warehouse. This notebook will:\n",
    "- check the `QUERY_ACCELERATION_ELIGIBLE` account usage view for warehouses that execute queries that are eligible for QAS.\n",
    "    - The user can toggle the minimum number of eligible queries to check for, along with the threshold of average execution time is eligible for the service\n",
    "- enable QAS for each selected warehouse (optional)\n",
    "- allow the user to execute an eligible query on a warehouse once QAS is enabled (optional)"
   ]
  },
  {
   "cell_type": "markdown",
   "id": "5045de21-9f8c-443f-96c0-9a67c1b893d9",
   "metadata": {
    "collapsed": false,
    "name": "Prerequisites"
   },
   "source": [
    "## Prerequisites:\n",
    "\n",
    "- The user executing this notebook, must have access to the `SNOWFLAKE` database.\n",
    "- The user's role must either be the warehouse owner, or have the `MANAGE WAREHOUSE` account-level privilge to enable QAS for a selected warehouse."
   ]
  },
  {
   "cell_type": "markdown",
   "id": "a9ce2fba-7a16-4bc5-9929-afda2e534efb",
   "metadata": {
    "collapsed": false,
    "name": "Step_1_Label"
   },
   "source": [
    "## STEP 1: Initiaize Session"
   ]
  },
  {
   "cell_type": "code",
   "execution_count": null,
   "id": "96f7b910-866d-481d-9454-9053a2fcb075",
   "metadata": {
    "collapsed": false,
    "language": "python",
    "name": "Step_1_Initialize_Session"
   },
   "outputs": [],
   "source": [
    "import json\n",
    "import numpy as np\n",
    "import pandas as pd\n",
    "import re\n",
    "import streamlit as st\n",
    "from st_aggrid import AgGrid, GridUpdateMode, JsCode\n",
    "from st_aggrid.grid_options_builder import GridOptionsBuilder\n",
    "import sqlparse\n",
    "\n",
    "session = get_active_session()\n",
    "\n",
    "#tag session\n",
    "session.sql(f\"\"\"ALTER SESSION SET QUERY_TAG = '{{\"origin\":\"sf_sit\",\"name\":\"qas_eligible_warehouses\",\"version\":{{\"major\":1, \"minor\":0}},\"attributes\":\"session_tag\"}}'\"\"\").collect()\n",
    "\n",
    "#get current_role\n",
    "current_role = session.get_current_role().replace('\"','')\n",
    "\n",
    "st.success(f\"Session initialized for role: {current_role} 🎉\")"
   ]
  },
  {
   "cell_type": "markdown",
   "id": "66492742-c41a-4570-81ee-fc874914ed7d",
   "metadata": {
    "collapsed": false,
    "name": "Step_2_Label"
   },
   "source": [
    "## STEP 2: Function definition"
   ]
  },
  {
   "cell_type": "code",
   "execution_count": null,
   "id": "1ac72105-496b-4e17-a807-495078083cba",
   "metadata": {
    "collapsed": false,
    "language": "python",
    "name": "Step_2_Function_Definition"
   },
   "outputs": [],
   "source": [
    "def paginate_data(df):\t\t\t\n",
    "\tpagination = st.empty()\n",
    "\tbatch_size = 20  # Set the number of items per page\n",
    "\n",
    "\tif len(df) > 0:\n",
    "\t\tbottom_menu = st.columns((4, 1, 1))\n",
    "\t\twith bottom_menu[2]:\n",
    "\t\t\ttotal_pages = (\n",
    "                int(len(df) / batch_size) if int(len(df) / batch_size) > 0 else 1\n",
    "            )\n",
    "\t\t\tcurrent_page = st.number_input(\n",
    "                \"Page\", min_value=1, max_value=total_pages, step=1\n",
    "            )\n",
    "\t\twith bottom_menu[0]:\n",
    "\t\t\tst.markdown(f\"Page **{current_page}** of **{total_pages}** \")\n",
    "    \n",
    "\t\tpages = split_frame(df, batch_size)\n",
    "\t\t#dynamically set df height, based on number of rows in data frame\n",
    "\t\tpagination.dataframe(data=pages[current_page - 1], height=int(((len(df)/batch_size) + 1.5) * 60 + 3.5), use_container_width=True)\n",
    "\telse:\n",
    "\t\tst.caption(\"No results to display.\")\n",
    "\n",
    "@st.cache_data(show_spinner=False)\n",
    "def split_frame(input_df, rows):\n",
    "\tdf = [input_df.loc[i : i + rows - 1, :] for i in range(0, len(input_df), rows)]\n",
    "\treturn df\n",
    "\n",
    "@st.cache_data(show_spinner=False)\n",
    "def query_cache(_session, input_stmt):\n",
    "\tdf = pd.DataFrame(_session.sql(input_stmt).collect())\n",
    "\treturn df\n",
    "\n",
    "st.success(f\"Functions created 🎉\")"
   ]
  },
  {
   "cell_type": "markdown",
   "id": "7d1ac194-cbf3-4073-bef7-eee8628810f8",
   "metadata": {
    "collapsed": false,
    "name": "Step_3_Label"
   },
   "source": [
    "## STEP 3: Show warehouses that have queries eligible for query acceleration\n",
    "\n",
    "This step shows the warehouses that have queries that are eligible for query acceleration, based on the criteria set by the user below."
   ]
  },
  {
   "cell_type": "code",
   "execution_count": null,
   "id": "6bbdf769-efb5-42d8-9ea6-3ccf22ad4452",
   "metadata": {
    "codeCollapsed": false,
    "collapsed": false,
    "language": "python",
    "name": "Step_3_QAS_Eligible_WHs"
   },
   "outputs": [],
   "source": [
    "st.divider()\n",
    "#select date range\n",
    "qa_eligible_date_range_list = ['Choose a Date Range', 'Last day', 'Last 7 days', 'Last 28 days', 'Last 3 months', 'Last 6 months', 'Last 12 months']\n",
    "st.selectbox(\"Select Date Range:\", qa_eligible_date_range_list, key=\"sb_qa_eligible_range\")\n",
    "\n",
    "date_time_part = \"\"\n",
    "increment = \"\"\n",
    "df_query_history_range = None\n",
    "disable_get_eligible_whs_flag = True\n",
    "list_qas_eligible_whs = [\"Choose Warehouse\"]\n",
    "df_qas_eligible_whs_clmns = ['Warehouse Name'\n",
    "                             ,'# of Eligible Queries'\n",
    "                             ,'Average Duration (sec)'\n",
    "                             ,'Average % of Query Available for QA'\n",
    "                            ]\n",
    "\n",
    "if st.session_state.sb_qa_eligible_range == \"Last day\":\n",
    "    date_time_part = \"hours\"\n",
    "    increment = \"24\"\n",
    "elif st.session_state.sb_qa_eligible_range == \"Last 7 days\":\n",
    "    date_time_part = \"days\"\n",
    "    increment = \"7\"\n",
    "elif st.session_state.sb_qa_eligible_range == \"Last 28 days\":\n",
    "    date_time_part = \"days\"\n",
    "    increment = \"28\"\n",
    "elif st.session_state.sb_qa_eligible_range == \"Last 3 months\":\n",
    "    date_time_part = \"months\"\n",
    "    increment = \"3\"\n",
    "elif st.session_state.sb_qa_eligible_range == \"Last 6 months\":\n",
    "    date_time_part = \"months\"\n",
    "    increment = \"6\"\n",
    "elif st.session_state.sb_qa_eligible_range == \"Last 12 months\":\n",
    "    date_time_part = \"months\"\n",
    "    increment = \"12\"\n",
    "\n",
    "#set minimum number of eligible queries\n",
    "st.number_input(\"Minimum # of Eligible Queries\", min_value=1, value=1, step=1, key=\"num_min_qas_queries\", help=\"The minimum number of QAS-eligible queries for each warehouse\")\n",
    "\n",
    "#select minimum ratio of eligible query acceleration time to total query duration\n",
    "qa_eligible_time_pct_list = ['Choose a Percentage', '10', '25', '50', '75']\n",
    "st.selectbox(\"Minimum % of Query Eligible for Query Acceleration:\", qa_eligible_time_pct_list, key=\"sb_qa_eligible_time_pct\", help=\"The minimum percentage of the amount of the query's execution time that is eligible for QAS\")\n",
    "\n",
    "if (st.session_state.sb_qa_eligible_range  != \"Choose a Date Range\") and (st.session_state.sb_qa_eligible_time_pct != \"Choose a Percentage\"):\n",
    "    disable_get_eligible_whs_flag = False\n",
    "\n",
    "st.button(\"Get Eligible Warehouses\", disabled=disable_get_eligible_whs_flag, type=\"primary\", key=\"btn_get_eligible_whs\")\n",
    "\n",
    "if st.session_state.btn_get_eligible_whs:\n",
    "    #create a dataframe from eligible warehouses\n",
    "    df_qas_eligible_whs = pd.DataFrame(session.sql(f\"\"\"SELECT \n",
    "                                                            warehouse_name\n",
    "                                                            ,COUNT(query_id) AS num_eligible_queries\n",
    "                                                            ,AVG(DATEDIFF(second, start_time, end_time))::number(38,3) AS avg_duration_sec\n",
    "                                                            ,AVG(eligible_query_acceleration_time / NULLIF(DATEDIFF(second, start_time, end_time), 0))::number(38,3) * 100 as avg_eligible_time_pct\n",
    "                                                        FROM \n",
    "                                                            SNOWFLAKE.ACCOUNT_USAGE.QUERY_ACCELERATION_ELIGIBLE\n",
    "                                                        WHERE\n",
    "                                                            end_time > DATEADD({date_time_part}, -{increment}, CURRENT_TIMESTAMP())\n",
    "                                                        GROUP BY \n",
    "                                                            warehouse_name\n",
    "                                                        HAVING\n",
    "                                                            num_eligible_queries >= {st.session_state.num_min_qas_queries}\n",
    "                                                            AND avg_eligible_time_pct >= {st.session_state.sb_qa_eligible_time_pct}\n",
    "                                                        ORDER BY \n",
    "                                                            num_eligible_queries DESC\"\"\").collect(), columns=df_qas_eligible_whs_clmns)\n",
    "\n",
    "    list_qas_eligible_whs.extend(df_qas_eligible_whs['Warehouse Name'].tolist())\n",
    "\n",
    "    st.divider()\n",
    "    st.subheader(\"Eligible Warehouses:\")\n",
    "    paginate_data(df_qas_eligible_whs)"
   ]
  },
  {
   "cell_type": "markdown",
   "id": "7f5cf79f-71c3-4040-9b5b-ec494ec39eaa",
   "metadata": {
    "collapsed": false,
    "name": "Step_4_Label"
   },
   "source": [
    "## STEP 4: Inspect QAS-eligible queries (optional).\n",
    "\n",
    "This step allows the user to inspect QAS-eligible queries for the selected warehouse."
   ]
  },
  {
   "cell_type": "code",
   "execution_count": null,
   "id": "ec013ae3-0733-4def-a0f6-200f0b508f45",
   "metadata": {
    "collapsed": false,
    "language": "python",
    "name": "Step_4_Inspect_QAS_Eligible_Queries"
   },
   "outputs": [],
   "source": [
    "st.divider()\n",
    "\n",
    "disable_get_eligible_queries_flag = True\n",
    "\n",
    "#select eligible warehouse\n",
    "st.selectbox(\"Select Warehouse:\", list_qas_eligible_whs, key=\"sb_qas_eligible_wh\")\n",
    "\n",
    "if st.session_state.sb_qas_eligible_wh != \"Choose Warehouse\":\n",
    "    disable_get_eligible_queries_flag = False\n",
    "\n",
    "st.button(\"Get Eligible Queries\", disabled=disable_get_eligible_queries_flag, type=\"primary\", key=\"btn_get_eligible_queries\")\n",
    "\n",
    "if st.session_state.btn_get_eligible_queries:\n",
    "    #create a dataframe for eligible queries\n",
    "    df_qas_eligible_queries_clmns = ['Query ID'\n",
    "                                ,'Query Text'\n",
    "                                ,'Warehouse Name'\n",
    "                                ,'Warehouse Size'\n",
    "                                ,'Start Time'\n",
    "                                ,'End Time'\n",
    "                                ,'Eligible QA Time (sec)'\n",
    "                                ,'Upper Limit Scale Factor'\n",
    "                                ,'Total Duration (sec)'\n",
    "                                ,'% of Query Available for QA'\n",
    "                            ]\n",
    "    \n",
    "    df_qas_eligible_queries = pd.DataFrame(session.sql(f\"\"\"SELECT \n",
    "                                                            query_id\n",
    "                                                            ,query_text\n",
    "                                                            ,warehouse_name\n",
    "                                                            ,warehouse_size\n",
    "                                                            ,start_time\n",
    "                                                            ,end_time\n",
    "                                                            ,eligible_query_acceleration_time\n",
    "                                                            ,upper_limit_scale_factor\n",
    "                                                            ,DATEDIFF(second, start_time, end_time) AS total_duration\n",
    "                                                            ,(eligible_query_acceleration_time / NULLIF(DATEDIFF(second, start_time, end_time), 0))::number(38,3) * 100 AS eligible_time_pct\n",
    "                                                        FROM\n",
    "                                                            SNOWFLAKE.ACCOUNT_USAGE.QUERY_ACCELERATION_ELIGIBLE\n",
    "                                                        WHERE\n",
    "                                                            LOWER(warehouse_name) = '{st.session_state.sb_qas_eligible_wh.lower()}'\n",
    "                                                            AND end_time > DATEADD({date_time_part}, -{increment}, CURRENT_TIMESTAMP())\n",
    "                                                        ORDER BY (eligible_time_pct, upper_limit_scale_factor) DESC NULLS LAST\n",
    "                                                        LIMIT 100\n",
    "                                                        ;\"\"\").collect(), columns=df_qas_eligible_queries_clmns)\n",
    "\n",
    "    st.divider()\n",
    "    st.subheader(f\"Eligible Queries for Warehouse: {st.session_state.sb_qas_eligible_wh.upper()}\")\n",
    "    paginate_data(df_qas_eligible_queries)"
   ]
  },
  {
   "cell_type": "markdown",
   "id": "9076bf89-97c5-411a-af8e-6d39e9233a22",
   "metadata": {
    "collapsed": false,
    "name": "Step_5_Label"
   },
   "source": [
    "## STEP 5: Enable QAS\n",
    "\n",
    "This step enables QAS for the selected warehouses."
   ]
  },
  {
   "cell_type": "code",
   "execution_count": null,
   "id": "edf627ae-b4be-46b0-8481-8e0008784844",
   "metadata": {
    "codeCollapsed": false,
    "collapsed": false,
    "language": "python",
    "name": "Step_5_Enable_QAS"
   },
   "outputs": [],
   "source": [
    "st.divider()\n",
    "disable_enable_qas = True\n",
    "\n",
    "#select eligible warehouses to enable QAS\n",
    "st.multiselect(\"Select Warehouse:\", list_qas_eligible_whs, key=\"ms_qas_eligible_whs\")\n",
    "\n",
    "if st.session_state.ms_qas_eligible_whs:\n",
    "    disable_enable_qas = False\n",
    "\n",
    "st.button(\"Enable QAS\", disabled=disable_enable_qas, type=\"primary\", key=\"btn_enable_qas\")\n",
    "\n",
    "if st.session_state.btn_enable_qas:\n",
    "    for wh in st.session_state.ms_qas_eligible_whs:\n",
    "        #enable QAS for each warehouse selected\n",
    "        session.sql(f\"\"\"ALTER WAREHOUSE {wh} SET ENABLE_QUERY_ACCELERATION = TRUE\"\"\").collect()\n",
    "        session.sql(f\"\"\"ALTER WAREHOUSE {wh} SET COMMENT = '{{\"origin\":\"sf_sit\",\"name\":\"qas_eligible_warehouses\",\"version\":{{\"major\":1, \"minor\":0}},\"attributes\":\"session_tag\"}}'\"\"\").collect()\n",
    "    \n",
    "        st.success(f\"QAS enabled for warehouse: {wh.upper()} 🎉\")\n"
   ]
  },
  {
   "cell_type": "markdown",
   "id": "1e8543d0-097a-46c8-b254-1a8260e1d934",
   "metadata": {
    "collapsed": false,
    "name": "Step_6_Label"
   },
   "source": [
    "## STEP 6: Execute query on QAS-enabled warehouse (optional)\n",
    "\n",
    "This step executes a query on the warehouse that has QAS enabled. Perform the following steps:\n",
    "\n",
    "1. Select one of the warehouses that was enabled in **Step 5**.\n",
    "1. Based on the selected warehouse, copy one of the queries from **Step 4** and paste it in the text area below.\n",
    "1. Click `Run Query` and notice the improved query performance."
   ]
  },
  {
   "cell_type": "code",
   "execution_count": null,
   "id": "3292a590-caed-4447-ac7f-57957264586f",
   "metadata": {
    "codeCollapsed": false,
    "collapsed": false,
    "language": "python",
    "name": "Step_6_Execute_Query_on_QAS_WH"
   },
   "outputs": [],
   "source": [
    "st.divider()\n",
    "\n",
    "current_wh = None\n",
    "list_qas_enabled_whs = [\"Choose Warehouse\"]\n",
    "disable_query_text_area_flag = True\n",
    "disable_run_query_flag = True\n",
    "#last_query_id = \"\"\n",
    "\n",
    "if \"df_run_query\" not in st.session_state:\n",
    "    st.session_state.df_run_query = None\n",
    "\n",
    "if \"last_query_id\" not in st.session_state:\n",
    "    st.session_state.df_run_query = None\n",
    "    \n",
    "df_current_wh = pd.DataFrame(session.sql(f\"\"\"SELECT CURRENT_WAREHOUSE();\"\"\").collect())\n",
    "\n",
    "if not df_current_wh.empty:\n",
    "    current_wh = df_current_wh.iloc[0,0]\n",
    "\n",
    "#get QAS-enabled warehouses\n",
    "session.sql(f\"\"\"SHOW WAREHOUSES;\"\"\").collect()\n",
    "df_qas_whs = pd.DataFrame(session.sql(f\"\"\"SELECT \"name\" FROM TABLE(RESULT_SCAN(LAST_QUERY_ID())) WHERE \"enable_query_acceleration\" = TRUE;\"\"\").collect())\n",
    "list_qas_enabled_whs.extend(df_qas_whs[\"name\"].tolist())\n",
    "\n",
    "#select QAS-enabled warehouse\n",
    "st.selectbox(\"Select Warehouse:\", list_qas_enabled_whs, key=\"sb_qas_enabled_wh\")\n",
    "\n",
    "if st.session_state.sb_qas_enabled_wh != \"Choose Warehouse\":\n",
    "    disable_query_text_area_flag = False\n",
    "    #switch to the QAS-enabled warehouse\n",
    "    session.sql(f\"\"\"USE WAREHOUSE {st.session_state.sb_qas_enabled_wh}\"\"\").collect()\n",
    "\n",
    "st.text_area(\"Paste Query\", key=\"ta_qas_query\", height=300, disabled=disable_query_text_area_flag)\n",
    "    \n",
    "if st.session_state.ta_qas_query != \"\":\n",
    "    disable_run_query_flag = False\n",
    "\n",
    "btn_run_query = st.button(\"Run Query\", disabled=disable_run_query_flag, type=\"primary\")\n",
    "\n",
    "if btn_run_query:\n",
    "    st.session_state.df_run_query = query_cache(session, st.session_state.ta_qas_query)\n",
    "    st.session_state.last_query_id = pd.DataFrame(session.sql(f\"\"\"SELECT LAST_QUERY_ID()\"\"\").collect()).iloc[0,0]\n",
    "\n",
    "if st.session_state.df_run_query is not None:\n",
    "    st.divider()\n",
    "    st.subheader(f\"Query Results\")\n",
    "    paginate_data(st.session_state.df_run_query)\n",
    "    st.divider()\n",
    "    st.success(f\"For more details, check Query History, using Query ID: {st.session_state.last_query_id}\")"
   ]
  }
 ],
 "metadata": {
  "kernelspec": {
   "display_name": "Streamlit Notebook",
   "name": "streamlit"
  }
 },
 "nbformat": 4,
 "nbformat_minor": 5
}
