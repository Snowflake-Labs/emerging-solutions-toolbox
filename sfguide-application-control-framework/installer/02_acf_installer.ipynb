{
 "cells": [
  {
   "cell_type": "markdown",
   "id": "ce110000-1111-2222-3333-ffffff000000",
   "metadata": {
    "collapsed": false,
    "name": "Title",
    "resultHeight": 157
   },
   "source": [
    "# ACF Installer\n",
    "\n",
    "This notebook installs the ACF, using the pickle files generated from the released code. \n",
    "\n",
    "**NOTE:** this notebook should only be executed in the account where native app resides and will be deployed from.\n"
   ]
  },
  {
   "cell_type": "markdown",
   "metadata": {},
   "source": [
    "## PREREQUISITE: Enable GitHub External Access Integration\n",
    "\n",
    "- If your account ***does not*** have an External Access Integration for the GitHub API, execute the commands below:\n",
    "```\n",
    "CREATE OR REPLACE NETWORK RULE gh_network_rule\n",
    "MODE = EGRESS\n",
    "TYPE = HOST_PORT\n",
    "VALUE_LIST = ('github.com', 'api.github.com');\n",
    "\n",
    "CREATE OR REPLACE EXTERNAL ACCESS INTEGRATION gh_access_integration\n",
    "ALLOWED_NETWORK_RULES = (gh_network_rule)\n",
    "ENABLED = true;\n",
    "```\n",
    "- Once the External Access Integration for the GitHub API as been created (or if one already exists), enable this notebook to use it, by following the steps here: https://docs.snowflake.com/en/user-guide/ui-snowsight/notebooks-external-access#enable-external-access-integrations-eai.\n",
    "    - **NOTE:** this step restarts the notebook.\n",
    "\n"
   ]
  },
  {
   "cell_type": "markdown",
   "id": "e0af3ce6-cf66-495a-aae0-a47892ffebe4",
   "metadata": {
    "collapsed": false,
    "name": "Step_1_Label",
    "resultHeight": 60
   },
   "source": [
    "## STEP 1: Initialization"
   ]
  },
  {
   "cell_type": "code",
   "execution_count": 1,
   "id": "ce110000-1111-2222-3333-ffffff000001",
   "metadata": {
    "collapsed": false,
    "language": "python",
    "name": "Step_1_Initialize_Session",
    "resultHeight": 71
   },
   "outputs": [],
   "source": [
    "import base64\n",
    "import codecs\n",
    "import io\n",
    "import os\n",
    "import pandas as pd\n",
    "import pickle\n",
    "import re\n",
    "import requests\n",
    "import sqlparse\n",
    "import streamlit as st\n",
    "\n",
    "session = get_active_session()\n",
    "\n",
    "#tag session\n",
    "session.sql(f\"\"\"ALTER SESSION SET QUERY_TAG = '{{\"origin\":\"sf_sit\",\"name\":\"acf\",\"version\":{{\"major\":1, \"minor\":7}},\"attributes\":{{\"env\":\"acf\",\"component\":\"installer\",\"type\":\"notebook\"}}'\"\"\").collect()\n",
    "\n",
    "#get current_role\n",
    "current_role = session.get_current_role().replace('\"','')\n",
    "\n",
    "st.success(f\"Session initialized for role: {current_role} 🎉\")"
   ]
  },
  {
   "cell_type": "markdown",
   "id": "ce110000-1111-2222-3333-ffffff000002",
   "metadata": {
    "collapsed": false,
    "name": "Step_2_label",
    "resultHeight": 60
   },
   "source": [
    "## STEP 2: Function definition"
   ]
  },
  {
   "cell_type": "code",
   "execution_count": null,
   "id": "ce110000-1111-2222-3333-ffffff000003",
   "metadata": {
    "collapsed": false,
    "language": "python",
    "name": "Step_2_Function_Definition",
    "resultHeight": 0
   },
   "outputs": [],
   "source": [
    "def decode(obj):\n",
    "    pickled = codecs.decode(obj.encode(), 'base64')\n",
    "    return pickle.loads(pickled)\n",
    "\n",
    "def get_pickle(path):\n",
    "    req = requests.get(path)\n",
    "    if req.status_code == requests.codes.ok:\n",
    "        req = req.json()\n",
    "        content = base64.b64decode(req['content']).decode(\"utf-8\")\n",
    "        return content\n",
    "    else:\n",
    "        return 'Content was not found.'\n",
    "\n",
    "def put_to_stage(session, stage, filename, type, content):\n",
    "    local_path = '/tmp'\n",
    "    local_file = os.path.join(local_path, filename)\n",
    "\n",
    "    if type.lower() == \"file\":\n",
    "        f = open(local_file, \"w\", encoding='utf-8')\n",
    "        f.write(content)\n",
    "        f.close()\n",
    "\n",
    "    if type.lower() == \"image\":\n",
    "        with open(local_file, \"wb\") as f:\n",
    "            img_data = content.encode()\n",
    "            f.write(base64.b64decode(img_data))\n",
    "            f.close()\n",
    "        \n",
    "    session.file.put(local_file, f\"@{stage}\", auto_compress=False, overwrite=True)\n",
    "    return f\"saved {type} {filename} in stage {stage}\""
   ]
  },
  {
   "cell_type": "markdown",
   "id": "6ec1225b-cd1c-489e-8c09-32b9d1caa7c9",
   "metadata": {
    "collapsed": false,
    "name": "Step_3_Label",
    "resultHeight": 60
   },
   "source": [
    "## STEP 3: Set ACF Account Parameters"
   ]
  },
  {
   "cell_type": "code",
   "execution_count": null,
   "id": "3df24c46-dfe8-4f86-ae56-b44647817441",
   "metadata": {
    "collapsed": false,
    "language": "python",
    "name": "Step_3_Set_Parameters",
    "resultHeight": 83
   },
   "outputs": [],
   "source": [
    "#get account org and locator\n",
    "acf_acct_locator = session.get_current_account().replace('\"','')\n",
    "\n",
    "acf_app_code = st.text_input(\"Enter the ACF App Code 👇\", help=\"The unique identifier for your native app (i.e. `ACME`). It is the same identifier specified when setting up the event account(s).\")"
   ]
  },
  {
   "cell_type": "markdown",
   "id": "ce110000-1111-2222-3333-ffffff000004",
   "metadata": {
    "collapsed": false,
    "name": "Step_4_Label",
    "resultHeight": 60
   },
   "source": [
    "## STEP 4: Get ACF pickle file and decode"
   ]
  },
  {
   "cell_type": "code",
   "execution_count": null,
   "id": "ce110000-1111-2222-3333-ffffff000005",
   "metadata": {
    "collapsed": false,
    "language": "python",
    "name": "Step_4_Get_Decode_Pickle",
    "resultHeight": 71
   },
   "outputs": [],
   "source": [
    "decoded_acf_obj = None\n",
    "\n",
    "acf_pickle = get_pickle('https://api.github.com/repos/Snowflake-Labs/sfguide-application-control-framework/contents/pickles/02_acf.pickle')\n",
    "\n",
    "if acf_pickle != 'Content was not found.':\n",
    "    decoded_acf_obj = decode(acf_pickle)\n",
    "    st.success(f\"ACF Pickle Decoded 🎉\")\n",
    "else:\n",
    "    print ('Content was not found.')"
   ]
  },
  {
   "cell_type": "markdown",
   "id": "ce110000-1111-2222-3333-ffffff000006",
   "metadata": {
    "collapsed": false,
    "name": "Step_5_Label",
    "resultHeight": 60
   },
   "source": [
    "## STEP 5: Execute commands from decoded ACF pickle file"
   ]
  },
  {
   "cell_type": "code",
   "execution_count": null,
   "id": "ce110000-1111-2222-3333-ffffff000007",
   "metadata": {
    "collapsed": false,
    "language": "python",
    "name": "Step_5_Execute_Events_Acct_Setup_Cmds",
    "resultHeight": 39295
   },
   "outputs": [],
   "source": [
    "verbose = st.selectbox(\"Verbose?\", (\"Select...\", \"Y\", \"N\"), index=0,)\n",
    "\n",
    "#acf setup scripts\n",
    "acf_setup_list = decoded_acf_obj['acf_setup'].items()\n",
    "for file_name, file_content in acf_setup_list:\n",
    "    file_content = str(file_content.decode(\"utf-8\"))\n",
    "    #replace SnowSQL variables with values from Step 3 and comment out SnowSQL print/set commands, also comment out PUT commands\n",
    "    repl = {\"&{APP_CODE}\": f\"{acf_app_code}\"\n",
    "            ,\"&APP_CODE\": f\"{acf_app_code}\"\n",
    "            ,\"&{ACF_ACCOUNT_LOCATOR}\": f\"{acf_acct_locator}\"\n",
    "            ,\"&ACF_ACCOUNT_LOCATOR\": f\"{acf_acct_locator}\"\n",
    "            ,\"&&&&\": \"&&\"\n",
    "            ,\"!print\": \"--!print\"\n",
    "            ,\"!set\": \"--!set\"\n",
    "            ,\"PUT 'file\": \"--PUT 'file\"\n",
    "          }\n",
    "\n",
    "    repl = dict((re.escape(k), v) for k, v in repl.items()) \n",
    "    pattern = re.compile(\"|\".join(repl.keys()))\n",
    "    file_content = pattern.sub(lambda m: repl[re.escape(m.group(0))], file_content)\n",
    "\n",
    "    #format file_content\n",
    "    file_content = sqlparse.format(file_content, strip_comments=True).strip()\n",
    "\n",
    "    #execute each sql statement\n",
    "    statements = sqlparse.split(file_content)\n",
    "    for stmt in statements:\n",
    "        if verbose != \"Select...\":\n",
    "            if verbose == \"Y\":\n",
    "                st.code(f\"\"\"Statement executed: {stmt}\n",
    "                \"\"\")\n",
    "            session.sql(stmt).collect()\n",
    "\n",
    "#dev environment templates\n",
    "acf_dev_env_templates_list = decoded_acf_obj['acf_dev_env_templates'].items()\n",
    "for file_name, file_content in acf_dev_env_templates_list:\n",
    "    file_content = str(file_content.decode(\"utf-8\"))\n",
    "\n",
    "    if verbose != \"Select...\":\n",
    "        #put file on stage\n",
    "        stage = f\"P_{acf_app_code}_SOURCE_DB_DEV.ARTIFACTS.ARTIFACTS/templates\"\n",
    "        put_to_stage(session, stage, file_name, \"file\", file_content)\n",
    "        st.code(f\"\"\"File: {file_name} placed on stage: {stage}\n",
    "                \"\"\")\n",
    "\n",
    "#acf App Control Manager\n",
    "acf_streamlit_main = decoded_acf_obj['acf_streamlit_main'].items()\n",
    "for file_name, file_content in acf_streamlit_main:\n",
    "    file_content = str(file_content.decode(\"utf-8\"))\n",
    "\n",
    "    if verbose != \"Select...\":\n",
    "        #put file on stage\n",
    "        stage = f\"P_{acf_app_code}_ACF_DB.ACF_STREAMLIT.ACF_STREAMLIT\"\n",
    "        put_to_stage(session, stage, file_name, \"file\", file_content)\n",
    "        st.code(f\"\"\"File: {file_name} placed on stage: {stage}\n",
    "                \"\"\")\n",
    "\n",
    "acf_streamlit_code_list = decoded_acf_obj['acf_streamlit_code'].items()\n",
    "for file_name, file_content in acf_streamlit_code_list:\n",
    "    file_content = str(file_content.decode(\"utf-8\"))\n",
    "\n",
    "    if verbose != \"Select...\":\n",
    "        #put file on stage\n",
    "        stage = f\"P_{acf_app_code}_ACF_DB.ACF_STREAMLIT.ACF_STREAMLIT/acf\"\n",
    "        put_to_stage(session, stage, file_name, \"file\", file_content)\n",
    "        st.code(f\"\"\"File: {file_name} placed on stage: {stage}\n",
    "                \"\"\")\n",
    "\n",
    "acf_streamlit_img_list = decoded_acf_obj['acf_streamlit_imgs'].items()\n",
    "for file_name, file_content in acf_streamlit_img_list:\n",
    "    file_content = str(file_content.decode(\"utf-8\"))\n",
    "\n",
    "    if verbose != \"Select...\":\n",
    "        #put file on stage\n",
    "        stage = f\"P_{acf_app_code}_ACF_DB.ACF_STREAMLIT.ACF_STREAMLIT/img\"\n",
    "        put_to_stage(session, stage, file_name, \"image\", file_content)\n",
    "        st.code(f\"\"\"File: {file_name} placed on stage: {stage}\n",
    "                \"\"\")\n",
    "\n",
    "    if file_name == list(acf_streamlit_img_list)[-1][0]:\n",
    "        st.success(f\"ACF Installed 🎉\")"
   ]
  }
 ],
 "metadata": {
  "kernelspec": {
   "display_name": "Python 3",
   "language": "python",
   "name": "python3"
  },
  "language_info": {
   "codemirror_mode": {
    "name": "ipython",
    "version": 3
   },
   "file_extension": ".py",
   "mimetype": "text/x-python",
   "name": "python",
   "nbconvert_exporter": "python",
   "pygments_lexer": "ipython3",
   "version": "3.12.1"
  }
 },
 "nbformat": 4,
 "nbformat_minor": 2
}
