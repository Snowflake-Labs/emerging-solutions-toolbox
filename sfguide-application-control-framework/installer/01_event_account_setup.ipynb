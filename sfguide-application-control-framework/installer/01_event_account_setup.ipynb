{
 "cells": [
  {
   "cell_type": "markdown",
   "id": "ce110000-1111-2222-3333-ffffff000000",
   "metadata": {
    "collapsed": false,
    "name": "cell1",
    "resultHeight": 183
   },
   "source": [
    "# Event Account Setup\n",
    "\n",
    "This notebook configures the Snowflake account as an event account for the native app created by the ACF, using the pickle files generated from the released code. \n",
    "\n",
    "**NOTE:** this notebook should only be executed in accounts intended to serve as event accounts, and not in the same account where the ACF and the native app reside. For more information on native app event sharing, visit https://docs.snowflake.com/en/developer-guide/native-apps/event-about.\n"
   ]
  },
  {
   "cell_type": "markdown",
   "id": "216b0863-9873-402e-b1ca-d5aabf0186f1",
   "metadata": {
    "collapsed": false,
    "name": "Prereq_GitHub_EAI_Label",
    "resultHeight": 454
   },
   "source": [
    "## PREREQUISITE: Enable GitHub External Access Integration\n",
    "\n",
    "- If your account ***does not*** have an External Access Integration for the GitHub API, execute the commands below:\n",
    "```\n",
    "CREATE OR REPLACE NETWORK RULE gh_network_rule\n",
    "MODE = EGRESS\n",
    "TYPE = HOST_PORT\n",
    "VALUE_LIST = ('github.com', 'api.github.com');\n",
    "\n",
    "CREATE OR REPLACE EXTERNAL ACCESS INTEGRATION gh_access_integration\n",
    "ALLOWED_NETWORK_RULES = (gh_network_rule)\n",
    "ENABLED = true;\n",
    "```\n",
    "- Once the External Access Integration for the GitHub API as been created (or if one already exists), enable this notebook to use it, by following the steps here: https://docs.snowflake.com/en/user-guide/ui-snowsight/notebooks-external-access#enable-external-access-integrations-eai.\n",
    "    - **NOTE:** this step restarts the notebook.\n",
    "\n"
   ]
  },
  {
   "cell_type": "markdown",
   "id": "e0af3ce6-cf66-495a-aae0-a47892ffebe4",
   "metadata": {
    "collapsed": false,
    "name": "Step_1_Label",
    "resultHeight": 60
   },
   "source": [
    "## STEP 1: Initialization"
   ]
  },
  {
   "cell_type": "code",
   "execution_count": null,
   "id": "ce110000-1111-2222-3333-ffffff000001",
   "metadata": {
    "collapsed": false,
    "language": "python",
    "name": "Step_1_Initialize_Session",
    "resultHeight": 71
   },
   "outputs": [],
   "source": [
    "import base64\n",
    "import codecs\n",
    "import os\n",
    "import pandas as pd\n",
    "import pickle\n",
    "import re\n",
    "import requests\n",
    "import sqlparse\n",
    "import streamlit as st\n",
    "\n",
    "session = get_active_session()\n",
    "\n",
    "#tag session\n",
    "session.sql(f\"\"\"ALTER SESSION SET QUERY_TAG = '{{\"origin\":\"sf_sit\",\"name\":\"acf\",\"version\":{{\"major\":1, \"minor\":7}},\"attributes\":{{\"env\":\"event_acct,\"component\":\"installer\",\"type\":\"notebook\"}}'\"\"\").collect()\n",
    "\n",
    "#get current_role\n",
    "current_role = session.get_current_role().replace('\"','')\n",
    "\n",
    "st.success(f\"Session initialized for role: {current_role} 🎉\")"
   ]
  },
  {
   "cell_type": "markdown",
   "id": "ce110000-1111-2222-3333-ffffff000002",
   "metadata": {
    "collapsed": false,
    "name": "Step_2_label",
    "resultHeight": 60
   },
   "source": [
    "## STEP 2: Function definition"
   ]
  },
  {
   "cell_type": "code",
   "execution_count": null,
   "id": "ce110000-1111-2222-3333-ffffff000003",
   "metadata": {
    "collapsed": false,
    "language": "python",
    "name": "Step_2_Function_Definition",
    "resultHeight": 0
   },
   "outputs": [],
   "source": [
    "def decode(obj):\n",
    "    pickled = codecs.decode(obj.encode(), 'base64')\n",
    "    return pickle.loads(pickled)\n",
    "\n",
    "def get_pickle(path):\n",
    "    req = requests.get(path)\n",
    "    if req.status_code == requests.codes.ok:\n",
    "        req = req.json()\n",
    "        content = base64.b64decode(req['content']).decode(\"utf-8\")\n",
    "        return content\n",
    "    else:\n",
    "        return 'Content was not found.'"
   ]
  },
  {
   "cell_type": "markdown",
   "id": "6ec1225b-cd1c-489e-8c09-32b9d1caa7c9",
   "metadata": {
    "collapsed": false,
    "name": "Step_3_Label",
    "resultHeight": 60
   },
   "source": [
    "## STEP 3: Set Event Account Parameters"
   ]
  },
  {
   "cell_type": "code",
   "execution_count": null,
   "id": "3df24c46-dfe8-4f86-ae56-b44647817441",
   "metadata": {
    "collapsed": false,
    "language": "python",
    "name": "Step_3_Set_Parameters",
    "resultHeight": 250
   },
   "outputs": [],
   "source": [
    "#get account org and locator\n",
    "event_account_org = pd.DataFrame(session.sql(f\"\"\"SELECT CURRENT_ORGANIZATION_NAME()\"\"\").collect()).iloc[0,0]\n",
    "event_account_locator = session.get_current_account().replace('\"','')\n",
    "\n",
    "acf_app_code = st.text_input(\"Enter the ACF App Code 👇\", help=\"The unique identifier for your native app (i.e. `ACME`). Use the same identifier when setting up the ACF account.\")\n",
    "acf_acct_locator = st.text_input(\"Enter the ACF Account Locator 👇\", help=\"The account identifier for the provider's Snowflake where the ACF will be deployed(this can be found by executing the `SELECT CURRENT_ACCOUNT()` command)\")\n",
    "acf_acct_name = st.text_input(\"Enter the ACF Account Name 👇\", help=\"The account name of the provider's Snowflake where the ACF will be deployed(this can be found by executing the `SELECT CURRENT_ACCOUNT_NAME()` command)\")"
   ]
  },
  {
   "cell_type": "markdown",
   "id": "ce110000-1111-2222-3333-ffffff000004",
   "metadata": {
    "collapsed": false,
    "name": "Step_4_Label",
    "resultHeight": 60
   },
   "source": [
    "## STEP 4: Get pickle file and decode"
   ]
  },
  {
   "cell_type": "code",
   "execution_count": null,
   "id": "ce110000-1111-2222-3333-ffffff000005",
   "metadata": {
    "collapsed": false,
    "language": "python",
    "name": "Step_4_Get_Decode_Pickle",
    "resultHeight": 0
   },
   "outputs": [],
   "source": [
    "decoded_event_acct_obj = None\n",
    "\n",
    "event_acct_pickle = get_pickle('https://api.github.com/repos/Snowflake-Labs/sfguide-application-control-framework/contents/pickles/01_event_acct.pickle')\n",
    "\n",
    "if event_acct_pickle != 'Content was not found.':\n",
    "    decoded_event_acct_obj = decode(event_acct_pickle)\n",
    "    st.success(f\"Event Account Setup Pickle Decoded 🎉\")    \n",
    "else:\n",
    "    print ('Content was not found.')"
   ]
  },
  {
   "cell_type": "markdown",
   "id": "ce110000-1111-2222-3333-ffffff000006",
   "metadata": {
    "collapsed": false,
    "name": "Step_5_Label",
    "resultHeight": 60
   },
   "source": [
    "## STEP 5: Execute commands from decoded pickle file"
   ]
  },
  {
   "cell_type": "code",
   "execution_count": null,
   "id": "ce110000-1111-2222-3333-ffffff000007",
   "metadata": {
    "collapsed": false,
    "language": "python",
    "name": "Step_5_Execute_Events_Acct_Setup_Cmds",
    "resultHeight": 155
   },
   "outputs": [],
   "source": [
    "verbose = st.selectbox(\"Verbose?\", (\"Select...\", \"Y\", \"N\"), index=0,)\n",
    "\n",
    "event_account_setup_list = decoded_event_acct_obj['event_account_setup'].items()\n",
    "for file_name, file_content in event_account_setup_list:\n",
    "    file_content = str(file_content.decode(\"utf-8\"))\n",
    "    #replace SnowSQL variables with values from Step 3 and comment out SnowSQL print/set commands\n",
    "    repl = {\"&{APP_CODE}\": f\"{acf_app_code}\"\n",
    "            ,\"&APP_CODE\": f\"{acf_app_code}\"\n",
    "            ,\"&{ORG_NAME}\": f\"{event_account_org}\"\n",
    "            ,\"&ORG_NAME\": f\"{event_account_org}\"\n",
    "            ,\"&{EVENT_ACCOUNT_LOCATOR}\": f\"{event_account_locator}\"\n",
    "            ,\"&EVENT_ACCOUNT_LOCATOR\": f\"{event_account_locator}\"\n",
    "            ,\"&{ACF_ACCOUNT_NAME}\": f\"{acf_acct_name}\"\n",
    "            ,\"&ACF_ACCOUNT_NAME\": f\"{acf_acct_name}\"\n",
    "            ,\"&{ACF_ACCOUNT_LOCATOR}\": f\"{acf_acct_locator}\"\n",
    "            ,\"&ACF_ACCOUNT_LOCATOR\": f\"{acf_acct_locator}\"\n",
    "            ,\"&&&&\":\"&&\"\n",
    "            ,\"!print\": \"--!print\"\n",
    "            ,\"!set\": \"--!set\"\n",
    "          }\n",
    "\n",
    "    repl = dict((re.escape(k), v) for k, v in repl.items()) \n",
    "    pattern = re.compile(\"|\".join(repl.keys()))\n",
    "    file_content = pattern.sub(lambda m: repl[re.escape(m.group(0))], file_content)\n",
    "\n",
    "    #format file_content\n",
    "    file_content = sqlparse.format(file_content, strip_comments=True).strip()\n",
    "\n",
    "    #execute each sql statement\n",
    "    statements = sqlparse.split(file_content)\n",
    "    for stmt in statements:\n",
    "        if verbose != \"Select...\":\n",
    "            if verbose == \"Y\":\n",
    "                st.code(f\"\"\"Statement executed: {stmt}\n",
    "                \"\"\")\n",
    "            session.sql(stmt).collect()\n",
    "        if file_name == list(event_account_setup_list)[-1][0] and stmt == statements[-1]:\n",
    "            st.success(f\"Events Account configured 🎉\")"
   ]
  }
 ],
 "metadata": {
  "kernelspec": {
   "display_name": "Python 3",
   "language": "python",
   "name": "python3"
  },
  "language_info": {
   "codemirror_mode": {
    "name": "ipython",
    "version": 3
   },
   "file_extension": ".py",
   "mimetype": "text/x-python",
   "name": "python",
   "nbconvert_exporter": "python",
   "pygments_lexer": "ipython3",
   "version": "3.12.1"
  }
 },
 "nbformat": 4,
 "nbformat_minor": 2
}
