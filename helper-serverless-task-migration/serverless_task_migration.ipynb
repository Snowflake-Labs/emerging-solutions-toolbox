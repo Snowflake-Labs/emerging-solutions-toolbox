{
 "metadata": {
  "kernelspec": {
   "display_name": "Streamlit Notebook",
   "name": "streamlit"
  },
  "lastEditStatus": {
   "notebookId": "tzjmp7eymnhw2oh65xzc",
   "authorId": "268319953597",
   "authorName": "HARTLANDBROWN",
   "authorEmail": "hartland.brown@snowflake.com",
   "sessionId": "229e056a-b5d7-4885-9203-0da6f6a42dd4",
   "lastEditTime": 1737573355626
  }
 },
 "nbformat_minor": 5,
 "nbformat": 4,
 "cells": [
  {
   "cell_type": "markdown",
   "id": "01515f0c-3971-44b5-8a86-9e5c6202ebba",
   "metadata": {
    "name": "cell13",
    "collapsed": false
   },
   "source": "# Serverless Task Migration\nThis app is designed to help identify tasks running in your snowflake that are underutilizing a warehouse so that they can be changed to a serverless task. This is designed to migrate these tasks to improve the proficiency of these services as well as save on the cost of execution, as an under-utilized warehouse often charges for downtime when spun up for short tasks\n\nThis Notedbook will drop a streamlit file at SIT_SOLUTIONS.STM.CODE_STAGE and install the app SIT_SOLUTIONS.STM.STM_STREAMLIT."
  },
  {
   "cell_type": "code",
   "id": "3775908f-ca36-4846-8f38-5adca39217f2",
   "metadata": {
    "language": "python",
    "name": "cell1",
    "resultHeight": 0,
    "collapsed": false,
    "codeCollapsed": false
   },
   "source": "# Import python packages\nimport streamlit as st\nimport pandas as pd\nimport pickle\nimport codecs\nimport os\nimport base64\n\nfrom snowflake.snowpark.context import get_active_session\nsession = get_active_session()\nsession.sql(f\"\"\"ALTER SESSION SET QUERY_TAG = '{{\"origin\":\"sf_sit\",\"name\":\"sit_serveless_task_migration\",\"version\":{{\"major\":1, \"minor\":0}} }}'\"\"\").collect()",
   "execution_count": null,
   "outputs": []
  },
  {
   "cell_type": "markdown",
   "id": "0a2ab985-aee1-4e95-841b-3c9840e46a53",
   "metadata": {
    "name": "cell8",
    "collapsed": false,
    "resultHeight": 41
   },
   "source": "Create solutions toolbox DB and QAS schema"
  },
  {
   "cell_type": "code",
   "id": "51304a7b-e118-4ebe-8dac-47581f05efe5",
   "metadata": {
    "language": "sql",
    "name": "cell7",
    "resultHeight": 112,
    "collapsed": false,
    "codeCollapsed": false
   },
   "outputs": [],
   "source": "CREATE DATABASE IF NOT EXISTS SIT_SOLUTIONS;\nCREATE OR REPLACE SCHEMA SIT_SOLUTIONS.STM;\nCREATE OR REPLACE STAGE SIT_SOLUTIONS.STM.CODE_STAGE;",
   "execution_count": null
  },
  {
   "cell_type": "code",
   "id": "8d50cbf4-0c8d-4950-86cb-114990437ac9",
   "metadata": {
    "language": "sql",
    "name": "cell2",
    "resultHeight": 112,
    "collapsed": false,
    "codeCollapsed": false
   },
   "source": "CREATE OR REPLACE PROCEDURE SIT_SOLUTIONS.STM.PUT_TO_STAGE(STAGE VARCHAR,FILENAME VARCHAR, CONTENT VARCHAR)\nRETURNS STRING\nLANGUAGE PYTHON\nRUNTIME_VERSION=3.8\nPACKAGES=('snowflake-snowpark-python')\nHANDLER='put_to_stage'\nCOMMENT='{\"origin\": \"sf_sit\",\"name\": \"sit_serveless_task_migration\",\"version\": \"{major: 1, minor: 0}\"}'\nAS $$\nimport io\nimport os\n\ndef put_to_stage(session, stage, filename, content):\n    local_path = '/tmp'\n    local_file = os.path.join(local_path, filename)\n    f = open(local_file, \"w\", encoding='utf-8')\n    f.write(content)\n    f.close()\n    session.file.put(local_file, '@'+stage, auto_compress=False, overwrite=True)\n    return \"saved file \"+filename+\" in stage \"+stage\n$$;\n",
   "execution_count": null,
   "outputs": []
  },
  {
   "cell_type": "code",
   "id": "05c58c38-28da-4566-9163-637c3e5945aa",
   "metadata": {
    "language": "python",
    "name": "cell4",
    "collapsed": false,
    "resultHeight": 0,
    "codeCollapsed": false
   },
   "outputs": [],
   "source": "encoded_obj = \"\"\"gASVgBcAAAAAAAB9lCiMBWZpbGVzlH2UKIwcc2VydmVybGVzc190YXNrX21pZ3JhdGlvbi5weZRC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\nZGVuY2llczoKLSBzdHJlYW1saXQ9MS4zOS4wlHWMBmltYWdlc5R9lHUu\"\"\"",
   "execution_count": null
  },
  {
   "cell_type": "code",
   "id": "c695373e-ac74-4b62-a1f1-08206cbd5c81",
   "metadata": {
    "language": "python",
    "name": "cell3",
    "collapsed": false,
    "resultHeight": 0,
    "codeCollapsed": false
   },
   "source": "import pickle\nimport codecs\nimport os\nimport base64\n\nfrom snowflake.snowpark.context import get_active_session\nsession = get_active_session()\n\ndef decode(obj):\n    pickled = codecs.decode(obj.encode(), 'base64')\n    return pickle.loads(pickled)\n\n\n# Decode object to confirm it is the same as the original object\ndecoded_obj = decode(encoded_obj)\n\n# Stage each file\nfor file_name, file_content in decoded_obj['files'].items():\n    # replace double dollars to help with SQL compatibility\n    file_content = str(file_content.decode(\"utf-8\")).replace(\"$$\", '\"\"\"')\n    sql = \"\"\"call sit_solutions.stm.put_to_stage('CODE_STAGE','{file_name}', $${file_content}$$)\"\"\".format(file_name=file_name, file_content=file_content)\n    session.sql(sql).collect()\n\n# Stage each image",
   "execution_count": null,
   "outputs": []
  },
  {
   "cell_type": "code",
   "id": "d0fbde38-0446-442e-8f7b-7cd4429380a8",
   "metadata": {
    "language": "sql",
    "name": "cell11",
    "resultHeight": 112,
    "collapsed": false,
    "codeCollapsed": false
   },
   "outputs": [],
   "source": "CREATE OR REPLACE STREAMLIT SIT_SOLUTIONS.STM.STM_STREAMLIT\nROOT_LOCATION = '@sit_solutions.stm.code_stage'\nMAIN_FILE = 'serverless_task_migration.py'\nQUERY_WAREHOUSE = SLINGSHOT_WH\nCOMMENT='{\"origin\": \"sf_sit\",\"name\": \"sit_serveless_task_migration\",\"version\": \"{major: 1, minor: 0}\"}';",
   "execution_count": null
  }
 ]
}