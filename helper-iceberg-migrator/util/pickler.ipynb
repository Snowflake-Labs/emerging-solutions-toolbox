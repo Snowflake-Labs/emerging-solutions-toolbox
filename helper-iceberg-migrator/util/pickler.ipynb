{
 "cells": [
  {
   "cell_type": "markdown",
   "metadata": {},
   "source": [
    "# ICEBERG MIGRATOR Pickler\n",
    "\n",
    "Once Iceberg Migrator updates are completed, the source code and files can be pickled using this notebook. This notebook is meant to be run from this location in the repo to package up the Iceberg Migrator files into lists that are picked and then written to a file. \n",
    "\n",
    "These files will be used by the Installer to install Iceberg Migrator.\n"
   ]
  },
  {
   "cell_type": "code",
   "execution_count": 15,
   "metadata": {},
   "outputs": [],
   "source": [
    "import base64\n",
    "import codecs\n",
    "import os\n",
    "import pickle"
   ]
  },
  {
   "cell_type": "markdown",
   "metadata": {},
   "source": [
    "## STEP 1: Function definition"
   ]
  },
  {
   "cell_type": "code",
   "execution_count": 16,
   "metadata": {},
   "outputs": [],
   "source": [
    "def decode(obj):\n",
    "    pickled = codecs.decode(obj.encode(), 'base64')\n",
    "    return pickle.loads(pickled)\n",
    "\n",
    "def encode(obj):\n",
    "    pickled = pickle.dumps(obj)\n",
    "    return codecs.encode(pickled, 'base64').decode()   \n",
    "\n",
    "def get_files(path):\n",
    "    files = [f for f in os.listdir(path) if os.path.isfile(os.path.join(path, f)) and f != \".DS_Store\"]\n",
    "    files.sort()\n",
    "    for file in files:\n",
    "        yield file"
   ]
  },
  {
   "cell_type": "markdown",
   "metadata": {},
   "source": [
    "## STEP 2: Set directory paths"
   ]
  },
  {
   "cell_type": "code",
   "execution_count": 17,
   "metadata": {},
   "outputs": [],
   "source": [
    "#get this repo's root dir\n",
    "repo_root = os.path.dirname(os.getcwd())\n",
    "\n",
    "#set pickle directory\n",
    "pickle_dir = f\"{repo_root}/pickles\"\n",
    "\n",
    "#set scripts/imgs directories\n",
    "setup_dir = f\"{repo_root}/iceberg-migrator/scripts\"\n",
    "streamlit_main = f\"{repo_root}/iceberg-migrator/streamlit/main.py\"\n",
    "streamlit_env = f\"{repo_root}/iceberg-migrator/streamlit/environment.yml\"\n",
    "streamlit_utils_dir = f\"{repo_root}/iceberg-migrator/streamlit/utils\"\n",
    "streamlit_img_dir = f\"{repo_root}/iceberg-migrator/streamlit/img\""
   ]
  },
  {
   "cell_type": "markdown",
   "metadata": {},
   "source": [
    "## STEP 3: Add content of directory files to list"
   ]
  },
  {
   "cell_type": "code",
   "execution_count": 18,
   "metadata": {},
   "outputs": [],
   "source": [
    "#setup\n",
    "setup_setup_dict = {}\n",
    "for file in get_files(setup_dir):\n",
    "    with open(setup_dir + \"/\" + file, \"rb\") as current_file:\n",
    "        setup_setup_dict[file] = current_file.read()\n",
    "        \n",
    "#streamlit_main\n",
    "streamlit_main_dict = {}\n",
    "with open(streamlit_main, \"rb\") as current_file:\n",
    "    streamlit_main_dict[\"main.py\"] = current_file.read()\n",
    "    \n",
    "#streamlit_env\n",
    "streamlit_env_dict = {}\n",
    "with open(streamlit_env, \"rb\") as current_file:\n",
    "    streamlit_env_dict[\"environment.yml\"] = current_file.read()\n",
    "        \n",
    "#streamlit_utils\n",
    "streamlit_utils_dict = {}\n",
    "for file in get_files(streamlit_utils_dir):\n",
    "    with open(streamlit_utils_dir + \"/\" + file, \"rb\") as current_file:\n",
    "        streamlit_utils_dict[file] = current_file.read()\n",
    "\n",
    "#streamlit_img\n",
    "streamlit_img_dict = {}\n",
    "for file in get_files(streamlit_img_dir):\n",
    "    with open(streamlit_img_dir + \"/\" + file, \"rb\") as current_file:\n",
    "        encoded_img = base64.b64encode(current_file.read())\n",
    "        streamlit_img_dict[file] = encoded_img"
   ]
  },
  {
   "cell_type": "markdown",
   "metadata": {},
   "source": [
    "## STEP 4: Create pickle files"
   ]
  },
  {
   "cell_type": "code",
   "execution_count": 19,
   "metadata": {},
   "outputs": [],
   "source": [
    "#write im setup pickle file\n",
    "obj = {\n",
    "    \"setup\" : setup_setup_dict,\n",
    "    \"streamlit_main\" : streamlit_main_dict,\n",
    "    \"streamlit_env\" : streamlit_env_dict,\n",
    "    \"streamlit_utils\" : streamlit_utils_dict,\n",
    "    \"streamlit_imgs\" : streamlit_img_dict,\n",
    "}\n",
    "encoded_objj = encode(obj)\n",
    "with open(f\"{pickle_dir}/setup.pickle\", \"w\") as p:\n",
    "    p.write(encoded_objj)     "
   ]
  },
  {
   "cell_type": "markdown",
   "metadata": {},
   "source": [
    "## STEP 5: Decode pickles to verify contents (optional)\n",
    "**Recommendation:** Copy each decoded string to a text editor for better readability."
   ]
  },
  {
   "cell_type": "code",
   "execution_count": null,
   "metadata": {},
   "outputs": [],
   "source": [
    "print(decode(encoded_objj))"
   ]
  }
 ],
 "metadata": {
  "kernelspec": {
   "display_name": "Python 3",
   "language": "python",
   "name": "python3"
  },
  "language_info": {
   "codemirror_mode": {
    "name": "ipython",
    "version": 3
   },
   "file_extension": ".py",
   "mimetype": "text/x-python",
   "name": "python",
   "nbconvert_exporter": "python",
   "pygments_lexer": "ipython3",
   "version": "3.10.11"
  }
 },
 "nbformat": 4,
 "nbformat_minor": 2
}
