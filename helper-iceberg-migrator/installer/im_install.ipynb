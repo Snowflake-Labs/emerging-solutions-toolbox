{
 "cells": [
  {
   "cell_type": "markdown",
   "id": "ce110000-1111-2222-3333-ffffff000000",
   "metadata": {
    "collapsed": false,
    "name": "cell1",
    "resultHeight": 183
   },
   "source": [
    "# Iceberg Migrator Installer\n",
    "\n",
    "This notebook installs the Iceberg Migrator.\n"
   ]
  },
  {
   "cell_type": "markdown",
   "id": "216b0863-9873-402e-b1ca-d5aabf0186f1",
   "metadata": {
    "collapsed": false,
    "name": "Prereq_GitHub_EAI_Label",
    "resultHeight": 454
   },
   "source": [
    "## PREREQUISITE: Enable GitHub External Access Integration\n",
    "\n",
    "- If your account ***does not*** have an External Access Integration for the GitHub API, execute the commands below:\n",
    "```\n",
    "CREATE OR REPLACE NETWORK RULE gh_network_rule\n",
    "MODE = EGRESS\n",
    "TYPE = HOST_PORT\n",
    "VALUE_LIST = ('github.com', 'api.github.com');\n",
    "\n",
    "CREATE OR REPLACE EXTERNAL ACCESS INTEGRATION gh_access_integration\n",
    "ALLOWED_NETWORK_RULES = (gh_network_rule)\n",
    "ENABLED = true;\n",
    "```\n",
    "- Once the External Access Integration for the GitHub API as been created (or if one already exists), enable this notebook to use it, by following the steps here: https://docs.snowflake.com/en/user-guide/ui-snowsight/notebooks-external-access#enable-external-access-integrations-eai.\n",
    "    - **NOTE:** this step restarts the notebook.\n",
    "\n"
   ]
  },
  {
   "cell_type": "markdown",
   "id": "e0af3ce6-cf66-495a-aae0-a47892ffebe4",
   "metadata": {
    "collapsed": false,
    "name": "Step_1_Label",
    "resultHeight": 60
   },
   "source": [
    "## STEP 1: Initialization"
   ]
  },
  {
   "cell_type": "code",
   "execution_count": null,
   "id": "ce110000-1111-2222-3333-ffffff000001",
   "metadata": {
    "collapsed": false,
    "language": "python",
    "name": "Step_1_Initialize_Session",
    "resultHeight": 71
   },
   "outputs": [],
   "source": [
    "import base64\n",
    "import codecs\n",
    "import os\n",
    "import pandas as pd\n",
    "import pickle\n",
    "import re\n",
    "import requests\n",
    "import sqlparse\n",
    "import streamlit as st\n",
    "\n",
    "session = get_active_session()\n",
    "\n",
    "#tag session\n",
    "session.sql(f\"\"\"ALTER SESSION SET QUERY_TAG = '{{\"origin\":\"sf_sit\",\"name\":\"iceberg-migrator\",\"version\":{{\"major\":1, \"minor\":2}},\"attributes\":{{\"env\":\"im_acct\",\"component\":\"installer\",\"type\":\"notebook\"}}}}'\"\"\").collect()\n",
    "\n",
    "#get current_role\n",
    "current_role = session.get_current_role().replace('\"','')\n",
    "\n",
    "st.success(f\"Session initialized for role: {current_role} 🎉\")"
   ]
  },
  {
   "cell_type": "markdown",
   "id": "ce110000-1111-2222-3333-ffffff000002",
   "metadata": {
    "collapsed": false,
    "name": "Step_2_label",
    "resultHeight": 60
   },
   "source": [
    "## STEP 2: Function definition"
   ]
  },
  {
   "cell_type": "code",
   "execution_count": null,
   "id": "ce110000-1111-2222-3333-ffffff000003",
   "metadata": {
    "collapsed": false,
    "language": "python",
    "name": "Step_2_Function_Definition",
    "resultHeight": 0
   },
   "outputs": [],
   "source": [
    "def decode(obj):\n",
    "    pickled = codecs.decode(obj.encode(), 'base64')\n",
    "    return pickle.loads(pickled)\n",
    "\n",
    "def get_pickle(path):\n",
    "    req = requests.get(path)\n",
    "    if req.status_code == requests.codes.ok:\n",
    "        req = req.json()\n",
    "        content = base64.b64decode(req['content']).decode(\"utf-8\")\n",
    "        return content\n",
    "    else:\n",
    "        return 'Content was not found.'\n",
    "    \n",
    "def put_to_stage(session, stage, filename, type, content):\n",
    "    local_path = '/tmp'\n",
    "    local_file = os.path.join(local_path, filename)\n",
    "\n",
    "    if type.lower() == \"file\":\n",
    "        f = open(local_file, \"w\", encoding='utf-8')\n",
    "        f.write(content)\n",
    "        f.close()\n",
    "\n",
    "    if type.lower() == \"image\":\n",
    "        with open(local_file, \"wb\") as f:\n",
    "            img_data = content.encode()\n",
    "            f.write(base64.b64decode(img_data))\n",
    "            f.close()\n",
    "        \n",
    "    session.file.put(local_file, f\"@{stage}\", auto_compress=False, overwrite=True)\n",
    "    return f\"saved {type} {filename} in stage {stage}\""
   ]
  },
  {
   "cell_type": "markdown",
   "id": "ce110000-1111-2222-3333-ffffff000004",
   "metadata": {
    "collapsed": false,
    "name": "Step_4_Label",
    "resultHeight": 60
   },
   "source": [
    "## STEP 3: Get pickle file and decode"
   ]
  },
  {
   "cell_type": "code",
   "execution_count": null,
   "id": "ce110000-1111-2222-3333-ffffff000005",
   "metadata": {
    "collapsed": false,
    "language": "python",
    "name": "Step_4_Get_Decode_Pickle",
    "resultHeight": 0
   },
   "outputs": [],
   "source": [
    "decoded_event_acct_obj = None\n",
    "\n",
    "install_pickle = get_pickle('https://api.github.com/repos/Snowflake-Labs/emerging-solutions-toolbox/contents/helper-iceberg-migrator/pickles/setup.pickle')\n",
    "\n",
    "if install_pickle != 'Content was not found.':\n",
    "    decoded_obj = decode(install_pickle)\n",
    "    st.success(f\"Install Pickle Decoded 🎉\")    \n",
    "else:\n",
    "    print ('Content was not found.')"
   ]
  },
  {
   "cell_type": "markdown",
   "id": "ce110000-1111-2222-3333-ffffff000006",
   "metadata": {
    "collapsed": false,
    "name": "Step_5_Label",
    "resultHeight": 60
   },
   "source": [
    "## STEP 4: Execute commands from decoded pickle file"
   ]
  },
  {
   "cell_type": "code",
   "execution_count": null,
   "id": "ce110000-1111-2222-3333-ffffff000007",
   "metadata": {
    "collapsed": false,
    "language": "python",
    "name": "Step_5_Execute_Events_Acct_Setup_Cmds",
    "resultHeight": 155
   },
   "outputs": [],
   "source": [
    "install_flag = False\n",
    "\n",
    "verbose = st.selectbox(\"Verbose?\", (\"Select...\", \"Y\", \"N\"), index=0,)\n",
    "\n",
    "setup_list = decoded_obj['setup'].items()\n",
    "for file_name, file_content in setup_list:\n",
    "    file_content = str(file_content.decode(\"utf-8\"))\n",
    "    \n",
    "    #replace variables\n",
    "    #repl = {\"<MY_ROLE>\": f\"{current_role}\"\n",
    "    #      }\n",
    "\n",
    "    #repl = dict((re.escape(k), v) for k, v in repl.items()) \n",
    "    #pattern = re.compile(\"|\".join(repl.keys()))\n",
    "    #file_content = pattern.sub(lambda m: repl[re.escape(m.group(0))], file_content)\n",
    "\n",
    "    #format file_content\n",
    "    file_content = sqlparse.format(file_content, strip_comments=True).strip()\n",
    "\n",
    "    #execute each sql statement\n",
    "    statements = sqlparse.split(file_content)\n",
    "    for stmt in statements:\n",
    "        if verbose != \"Select...\":\n",
    "            if verbose == \"Y\":\n",
    "                st.code(f\"\"\"Statement executed: {stmt}\n",
    "                \"\"\")\n",
    "            session.sql(stmt).collect()\n",
    "\n",
    "#Streamlit Main\n",
    "streamlit_main_list = decoded_obj['streamlit_main'].items()\n",
    "for file_name, file_content in streamlit_main_list:\n",
    "    file_content = str(file_content.decode(\"utf-8\"))\n",
    "    \n",
    "    #replace variables\n",
    "    #repl = {\"<MY_ROLE>\": f\"{current_role}\"\n",
    "    #      }\n",
    "    \n",
    "    #repl = dict((re.escape(k), v) for k, v in repl.items()) \n",
    "    #pattern = re.compile(\"|\".join(repl.keys()))\n",
    "    #file_content = pattern.sub(lambda m: repl[re.escape(m.group(0))], file_content)\n",
    "\n",
    "    if verbose != \"Select...\":\n",
    "        #put file on stage\n",
    "        stage = f\"ICEBERG_MIGRATOR_DB.STREAMLIT.STREAMLIT\"\n",
    "        put_to_stage(session, stage, file_name, \"file\", file_content)\n",
    "        st.code(f\"\"\"File: {file_name} placed on stage: {stage}\n",
    "                \"\"\")\n",
    "        \n",
    "#Streamlit Env\n",
    "streamlit_env_list = decoded_obj['streamlit_env'].items()\n",
    "for file_name, file_content in streamlit_env_list:\n",
    "    file_content = str(file_content.decode(\"utf-8\"))\n",
    "\n",
    "    if verbose != \"Select...\":\n",
    "        #put file on stage\n",
    "        stage = f\"ICEBERG_MIGRATOR_DB.STREAMLIT.STREAMLIT\"\n",
    "        put_to_stage(session, stage, file_name, \"file\", file_content)\n",
    "        st.code(f\"\"\"File: {file_name} placed on stage: {stage}\n",
    "                \"\"\")\n",
    "\n",
    "#Streamlit Utils\n",
    "streamlit_utils_list = decoded_obj['streamlit_utils'].items()\n",
    "for file_name, file_content in streamlit_utils_list:\n",
    "    file_content = str(file_content.decode(\"utf-8\"))\n",
    "\n",
    "    if verbose != \"Select...\":\n",
    "        #put file on stage\n",
    "        stage = f\"ICEBERG_MIGRATOR_DB.STREAMLIT.STREAMLIT/utils\"\n",
    "        put_to_stage(session, stage, file_name, \"file\", file_content)\n",
    "        st.code(f\"\"\"File: {file_name} placed on stage: {stage}\n",
    "                \"\"\")\n",
    "\n",
    "#Streamlit Imgs\n",
    "streamlit_img_list = decoded_obj['streamlit_imgs'].items()\n",
    "for file_name, file_content in streamlit_img_list:\n",
    "    file_content = str(file_content.decode(\"utf-8\"))\n",
    "\n",
    "    if verbose != \"Select...\":\n",
    "        #put file on stage\n",
    "        stage = f\"ICEBERG_MIGRATOR_DB.STREAMLIT.STREAMLIT/img\"\n",
    "        put_to_stage(session, stage, file_name, \"image\", file_content)\n",
    "        st.code(f\"\"\"File: {file_name} placed on stage: {stage}\n",
    "                \"\"\")\n",
    "\n",
    "    if file_name == list(streamlit_img_list)[-1][0]:\n",
    "        install_flag = True\n",
    "\n",
    "if install_flag:\n",
    "    st.success(f\"Iceberg Migrator Installed 🎉\")"
   ]
  }
 ],
 "metadata": {
  "kernelspec": {
   "display_name": "Python 3",
   "language": "python",
   "name": "python3"
  },
  "language_info": {
   "codemirror_mode": {
    "name": "ipython",
    "version": 3
   },
   "file_extension": ".py",
   "mimetype": "text/x-python",
   "name": "python",
   "nbconvert_exporter": "python",
   "pygments_lexer": "ipython3",
   "version": "3.12.1"
  }
 },
 "nbformat": 4,
 "nbformat_minor": 2
}
